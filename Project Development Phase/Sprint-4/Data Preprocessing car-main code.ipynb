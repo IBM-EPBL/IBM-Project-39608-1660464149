{
 "cells": [
  {
   "cell_type": "code",
   "execution_count": 2,
   "id": "65ac5d2f",
   "metadata": {},
   "outputs": [],
   "source": [
    "import numpy as np\n",
    "import pandas as pd"
   ]
  },
  {
   "cell_type": "code",
   "execution_count": 3,
   "id": "87921946",
   "metadata": {},
   "outputs": [],
   "source": [
    "datas = pd.read_csv(\"car performance.csv\")"
   ]
  },
  {
   "cell_type": "code",
   "execution_count": 4,
   "id": "cea0b9dd",
   "metadata": {},
   "outputs": [
    {
     "data": {
      "text/html": [
       "<div>\n",
       "<style scoped>\n",
       "    .dataframe tbody tr th:only-of-type {\n",
       "        vertical-align: middle;\n",
       "    }\n",
       "\n",
       "    .dataframe tbody tr th {\n",
       "        vertical-align: top;\n",
       "    }\n",
       "\n",
       "    .dataframe thead th {\n",
       "        text-align: right;\n",
       "    }\n",
       "</style>\n",
       "<table border=\"1\" class=\"dataframe\">\n",
       "  <thead>\n",
       "    <tr style=\"text-align: right;\">\n",
       "      <th></th>\n",
       "      <th>mpg</th>\n",
       "      <th>cylinders</th>\n",
       "      <th>displacement</th>\n",
       "      <th>horsepower</th>\n",
       "      <th>weight</th>\n",
       "      <th>acceleration</th>\n",
       "      <th>model year</th>\n",
       "      <th>origin</th>\n",
       "      <th>car name</th>\n",
       "    </tr>\n",
       "  </thead>\n",
       "  <tbody>\n",
       "    <tr>\n",
       "      <th>0</th>\n",
       "      <td>18.0</td>\n",
       "      <td>8</td>\n",
       "      <td>307.0</td>\n",
       "      <td>130</td>\n",
       "      <td>3504</td>\n",
       "      <td>12.0</td>\n",
       "      <td>70</td>\n",
       "      <td>1</td>\n",
       "      <td>chevrolet chevelle malibu</td>\n",
       "    </tr>\n",
       "    <tr>\n",
       "      <th>1</th>\n",
       "      <td>15.0</td>\n",
       "      <td>8</td>\n",
       "      <td>350.0</td>\n",
       "      <td>165</td>\n",
       "      <td>3693</td>\n",
       "      <td>11.5</td>\n",
       "      <td>70</td>\n",
       "      <td>1</td>\n",
       "      <td>buick skylark 320</td>\n",
       "    </tr>\n",
       "    <tr>\n",
       "      <th>2</th>\n",
       "      <td>18.0</td>\n",
       "      <td>8</td>\n",
       "      <td>318.0</td>\n",
       "      <td>150</td>\n",
       "      <td>3436</td>\n",
       "      <td>11.0</td>\n",
       "      <td>70</td>\n",
       "      <td>1</td>\n",
       "      <td>plymouth satellite</td>\n",
       "    </tr>\n",
       "    <tr>\n",
       "      <th>3</th>\n",
       "      <td>16.0</td>\n",
       "      <td>8</td>\n",
       "      <td>304.0</td>\n",
       "      <td>150</td>\n",
       "      <td>3433</td>\n",
       "      <td>12.0</td>\n",
       "      <td>70</td>\n",
       "      <td>1</td>\n",
       "      <td>amc rebel sst</td>\n",
       "    </tr>\n",
       "    <tr>\n",
       "      <th>4</th>\n",
       "      <td>17.0</td>\n",
       "      <td>8</td>\n",
       "      <td>302.0</td>\n",
       "      <td>140</td>\n",
       "      <td>3449</td>\n",
       "      <td>10.5</td>\n",
       "      <td>70</td>\n",
       "      <td>1</td>\n",
       "      <td>ford torino</td>\n",
       "    </tr>\n",
       "  </tbody>\n",
       "</table>\n",
       "</div>"
      ],
      "text/plain": [
       "    mpg  cylinders  displacement  horsepower  weight  acceleration  \\\n",
       "0  18.0          8         307.0         130    3504          12.0   \n",
       "1  15.0          8         350.0         165    3693          11.5   \n",
       "2  18.0          8         318.0         150    3436          11.0   \n",
       "3  16.0          8         304.0         150    3433          12.0   \n",
       "4  17.0          8         302.0         140    3449          10.5   \n",
       "\n",
       "   model year  origin                   car name  \n",
       "0          70       1  chevrolet chevelle malibu  \n",
       "1          70       1          buick skylark 320  \n",
       "2          70       1         plymouth satellite  \n",
       "3          70       1              amc rebel sst  \n",
       "4          70       1                ford torino  "
      ]
     },
     "execution_count": 4,
     "metadata": {},
     "output_type": "execute_result"
    }
   ],
   "source": [
    "datas.head()"
   ]
  },
  {
   "cell_type": "code",
   "execution_count": 5,
   "id": "0ccfd732",
   "metadata": {},
   "outputs": [
    {
     "data": {
      "text/plain": [
       "mpg             False\n",
       "cylinders       False\n",
       "displacement    False\n",
       "horsepower      False\n",
       "weight          False\n",
       "acceleration    False\n",
       "model year      False\n",
       "origin          False\n",
       "car name        False\n",
       "dtype: bool"
      ]
     },
     "execution_count": 5,
     "metadata": {},
     "output_type": "execute_result"
    }
   ],
   "source": [
    "datas.isnull().any()"
   ]
  },
  {
   "cell_type": "code",
   "execution_count": 7,
   "id": "7f2f1ee2",
   "metadata": {},
   "outputs": [
    {
     "name": "stdout",
     "output_type": "stream",
     "text": [
      "[[  8.  307.  130.  ...  12.   70.    1. ]\n",
      " [  8.  350.  165.  ...  11.5  70.    1. ]\n",
      " [  8.  318.  150.  ...  11.   70.    1. ]\n",
      " ...\n",
      " [  4.  135.   84.  ...  11.6  82.    1. ]\n",
      " [  4.  120.   79.  ...  18.6  82.    1. ]\n",
      " [  4.  119.   82.  ...  19.4  82.    1. ]]\n"
     ]
    }
   ],
   "source": [
    "x = datas.iloc[:,1:8].values\n",
    "y= datas.iloc[:,0].values\n",
    "print(x)"
   ]
  },
  {
   "cell_type": "code",
   "execution_count": 8,
   "id": "d196160f",
   "metadata": {},
   "outputs": [],
   "source": [
    "from sklearn.model_selection import train_test_split\n",
    "x_train,x_test,y_train,y_test = train_test_split(x,y,test_size=0.2,random_state=0)"
   ]
  },
  {
   "cell_type": "code",
   "execution_count": 9,
   "id": "5be23229",
   "metadata": {},
   "outputs": [],
   "source": [
    "from sklearn.preprocessing import StandardScaler\n",
    "sd = StandardScaler()\n",
    "x_train = sd.fit_transform(x_train)\n",
    "x_test = sd.fit_transform(x_test)"
   ]
  },
  {
   "cell_type": "code",
   "execution_count": 10,
   "id": "abbd9213",
   "metadata": {},
   "outputs": [
    {
     "data": {
      "text/plain": [
       "array([[ 1.51009735e+00,  1.37775817e+00,  1.11566388e+00,\n",
       "         1.32603357e+00, -7.67028735e-01, -9.05446356e-01,\n",
       "        -6.45497224e-01],\n",
       "       [-8.70351674e-01, -5.46020299e-01, -7.76114000e-01,\n",
       "        -5.35251362e-01,  5.88295369e-01, -3.82444851e-01,\n",
       "        -6.45497224e-01],\n",
       "       [ 1.51009735e+00,  9.31003928e-01,  8.00367563e-01,\n",
       "         1.51955091e+00,  2.49464343e-01, -9.05446356e-01,\n",
       "        -6.45497224e-01],\n",
       "       [-8.70351674e-01, -7.28368969e-01, -4.85071250e-01,\n",
       "        -2.27236267e-02,  1.43537293e+00, -9.05446356e-01,\n",
       "         6.45497224e-01],\n",
       "       [ 3.19872837e-01,  2.92783583e-01, -1.69774938e-01,\n",
       "         3.39681569e-01,  8.00488299e-02, -1.16694711e+00,\n",
       "        -6.45497224e-01],\n",
       "       [-8.70351674e-01, -1.16600578e+00, -9.21635375e-01,\n",
       "        -1.62481261e+00,  9.27126395e-01, -1.16694711e+00,\n",
       "         1.93649167e+00],\n",
       "       [-8.70351674e-01, -1.03836171e+00, -1.01864963e+00,\n",
       "        -1.20024730e+00, -2.16004779e-02,  9.25058912e-01,\n",
       "         1.93649167e+00],\n",
       "       [-8.70351674e-01, -5.46020299e-01, -4.12310563e-01,\n",
       "        -6.92410897e-01,  1.43537293e+00, -9.05446356e-01,\n",
       "        -6.45497224e-01],\n",
       "       [ 1.51009735e+00,  1.82451241e+00,  1.04290319e+00,\n",
       "         8.94431269e-01, -1.95293733e+00, -1.42844786e+00,\n",
       "        -6.45497224e-01],\n",
       "       [ 3.19872837e-01, -2.45144993e-01,  7.27606875e-02,\n",
       "        -3.20623043e-01, -9.02561145e-01,  1.44806042e+00,\n",
       "        -6.45497224e-01],\n",
       "       [-8.70351674e-01, -1.04747914e+00, -9.70142500e-01,\n",
       "        -1.36444383e+00,  6.89944676e-01,  1.18655967e+00,\n",
       "         6.45497224e-01],\n",
       "       [-8.70351674e-01, -1.03836171e+00, -1.01864963e+00,\n",
       "        -1.14864268e+00,  3.84996753e-01,  1.18655967e+00,\n",
       "         1.93649167e+00],\n",
       "       [ 3.19872837e-01,  4.56897386e-01, -4.60817688e-01,\n",
       "         2.65353319e-02,  4.18879856e-01, -6.43945603e-01,\n",
       "        -6.45497224e-01],\n",
       "       [-8.70351674e-01, -9.38069939e-01, -1.28543881e+00,\n",
       "        -8.73027078e-01,  2.79069704e+00, -9.05446356e-01,\n",
       "         6.45497224e-01],\n",
       "       [ 1.51009735e+00,  1.07688286e+00,  9.21635375e-01,\n",
       "         1.33893473e+00, -5.29847017e-01,  4.02057407e-01,\n",
       "        -6.45497224e-01],\n",
       "       [-8.70351674e-01, -9.28952506e-01, -6.54846188e-01,\n",
       "        -1.27061724e+00, -2.92665299e-01,  9.25058912e-01,\n",
       "        -6.45497224e-01],\n",
       "       [-8.70351674e-01, -7.37486402e-01, -6.06339063e-01,\n",
       "        -3.26487205e-01,  1.40148983e+00,  1.70956117e+00,\n",
       "        -6.45497224e-01],\n",
       "       [-8.70351674e-01, -4.45728530e-01, -4.12310563e-01,\n",
       "        -3.08894719e-01,  9.27126395e-01,  1.70956117e+00,\n",
       "        -6.45497224e-01],\n",
       "       [ 3.19872837e-01,  2.28961549e-01, -4.85071250e-02,\n",
       "         7.20852081e-01,  4.18879856e-01, -3.82444851e-01,\n",
       "        -6.45497224e-01],\n",
       "       [-8.70351674e-01, -9.92774540e-01, -9.21635375e-01,\n",
       "        -1.01845829e+00, -1.91015991e-01,  9.25058912e-01,\n",
       "         6.45497224e-01],\n",
       "       [ 1.51009735e+00,  1.82451241e+00,  2.01304569e+00,\n",
       "         1.55590871e+00, -1.03809356e+00,  4.02057407e-01,\n",
       "        -6.45497224e-01],\n",
       "       [-8.70351674e-01, -5.46020299e-01, -7.03353313e-01,\n",
       "        -4.76609745e-01,  1.09654191e+00, -1.20944098e-01,\n",
       "        -6.45497224e-01],\n",
       "       [-8.70351674e-01, -7.37486402e-01, -2.42535625e-01,\n",
       "        -5.31732865e-01,  5.88295369e-01, -1.20944098e-01,\n",
       "         1.93649167e+00],\n",
       "       [-8.70351674e-01, -7.19251535e-01,  1.21267813e-01,\n",
       "        -7.66739147e-02, -2.58782196e-01, -9.05446356e-01,\n",
       "         6.45497224e-01],\n",
       "       [-8.70351674e-01, -8.65130471e-01, -8.97381813e-01,\n",
       "        -9.95001643e-01, -1.23249786e-01,  9.25058912e-01,\n",
       "        -6.45497224e-01],\n",
       "       [ 3.19872837e-01, -2.90732161e-01,  2.18282063e-01,\n",
       "        -1.15377382e-01, -9.02561145e-01,  1.44806042e+00,\n",
       "         1.93649167e+00],\n",
       "       [-8.70351674e-01, -9.28952506e-01, -9.94396063e-01,\n",
       "        -1.40549296e+00, -2.92665299e-01,  6.63558160e-01,\n",
       "        -6.45497224e-01],\n",
       "       [-8.70351674e-01, -8.01308437e-01, -4.60817688e-01,\n",
       "        -7.07657718e-01,  9.27126395e-01,  1.70956117e+00,\n",
       "        -6.45497224e-01],\n",
       "       [-8.70351674e-01, -5.91607466e-01, -5.57831938e-01,\n",
       "        -7.19386041e-01, -8.00911837e-01,  1.44806042e+00,\n",
       "        -6.45497224e-01],\n",
       "       [ 3.19872837e-01,  5.29836854e-01,  7.27606875e-02,\n",
       "         7.43135896e-01,  9.27126395e-01, -3.82444851e-01,\n",
       "        -6.45497224e-01],\n",
       "       [ 3.19872837e-01,  2.28961549e-01,  7.27606875e-02,\n",
       "         7.29061908e-01,  1.16430811e+00,  6.63558160e-01,\n",
       "        -6.45497224e-01],\n",
       "       [-8.70351674e-01, -7.37486402e-01, -3.63803438e-01,\n",
       "        -6.61917256e-01, -8.93666831e-02,  1.18655967e+00,\n",
       "         1.93649167e+00],\n",
       "       [ 3.19872837e-01,  4.56897386e-01, -8.48874688e-01,\n",
       "         5.08569427e-01,  1.94361947e+00, -1.20944098e-01,\n",
       "        -6.45497224e-01],\n",
       "       [-8.70351674e-01, -1.04747914e+00, -8.97381813e-01,\n",
       "        -1.23543227e+00,  5.20529164e-01,  4.02057407e-01,\n",
       "         1.93649167e+00],\n",
       "       [ 3.19872837e-01,  2.83666150e-01,  7.27606875e-02,\n",
       "         4.88631277e-01,  1.81698138e-01,  1.44806042e+00,\n",
       "        -6.45497224e-01],\n",
       "       [-8.70351674e-01, -6.00724900e-01, -2.66789188e-01,\n",
       "        -3.47598187e-01, -5.97613222e-01, -1.20944098e-01,\n",
       "         1.93649167e+00],\n",
       "       [ 3.19872837e-01,  2.92783583e-01, -4.12310563e-01,\n",
       "         2.49373478e-01,  5.88295369e-01, -1.20944098e-01,\n",
       "        -6.45497224e-01],\n",
       "       [ 1.51009735e+00,  1.36864074e+00,  1.16417100e+00,\n",
       "         1.59695784e+00, -1.23249786e-01,  9.25058912e-01,\n",
       "        -6.45497224e-01],\n",
       "       [-8.70351674e-01, -1.01100941e+00, -8.73128250e-01,\n",
       "        -1.25888892e+00, -4.28197709e-01,  9.25058912e-01,\n",
       "         6.45497224e-01],\n",
       "       [ 1.51009735e+00,  2.08891798e+00,  2.20707419e+00,\n",
       "         2.29127459e+00, -1.27527527e+00, -6.43945603e-01,\n",
       "        -6.45497224e-01],\n",
       "       [ 1.51009735e+00,  2.31685382e+00,  2.74065256e+00,\n",
       "         1.58992085e+00, -2.12235284e+00, -1.42844786e+00,\n",
       "        -6.45497224e-01],\n",
       "       [ 1.51009735e+00,  1.36864074e+00,  1.40670663e+00,\n",
       "         8.14678669e-01, -1.27527527e+00, -1.42844786e+00,\n",
       "        -6.45497224e-01],\n",
       "       [-8.70351674e-01, -7.19251535e-01, -6.54846188e-01,\n",
       "        -3.85128822e-01, -8.93666831e-02,  9.25058912e-01,\n",
       "        -6.45497224e-01],\n",
       "       [-1.46546393e+00, -1.18424064e+00, -1.69774938e-01,\n",
       "        -6.78336909e-01, -9.36444248e-01,  1.18655967e+00,\n",
       "         1.93649167e+00],\n",
       "       [-8.70351674e-01, -5.09550565e-01, -2.66789188e-01,\n",
       "        -3.90992984e-01, -4.62080812e-01,  1.70956117e+00,\n",
       "         1.93649167e+00],\n",
       "       [-8.70351674e-01, -7.19251535e-01,  7.27606875e-02,\n",
       "        -3.96857145e-01, -4.28197709e-01, -6.43945603e-01,\n",
       "         6.45497224e-01],\n",
       "       [ 3.19872837e-01,  2.92783583e-01, -4.12310563e-01,\n",
       "         1.01596602e-01,  7.91593984e-01,  1.40556655e-01,\n",
       "        -6.45497224e-01],\n",
       "       [ 1.51009735e+00,  1.36864074e+00,  1.77051006e+00,\n",
       "         1.62041449e+00, -1.07197666e+00,  1.40556655e-01,\n",
       "        -6.45497224e-01],\n",
       "       [ 3.19872837e-01, -4.09258796e-01,  0.00000000e+00,\n",
       "        -6.17349627e-01, -4.28197709e-01, -6.43945603e-01,\n",
       "        -6.45497224e-01],\n",
       "       [-8.70351674e-01, -1.10218374e+00, -9.70142500e-01,\n",
       "        -1.21432129e+00,  8.00488299e-02, -3.82444851e-01,\n",
       "         6.45497224e-01],\n",
       "       [-8.70351674e-01, -9.28952506e-01, -7.51860438e-01,\n",
       "        -1.00203864e+00, -1.91015991e-01,  1.18655967e+00,\n",
       "         6.45497224e-01],\n",
       "       [-8.70351674e-01, -9.28952506e-01, -5.82085500e-01,\n",
       "        -9.14076211e-01,  4.18879856e-01, -3.82444851e-01,\n",
       "         6.45497224e-01],\n",
       "       [ 1.51009735e+00,  9.31003928e-01,  5.57831938e-01,\n",
       "         1.52072374e+00, -1.23249786e-01,  4.02057407e-01,\n",
       "        -6.45497224e-01],\n",
       "       [-8.70351674e-01, -1.02012684e+00, -7.51860438e-01,\n",
       "        -1.09469239e+00, -2.58782196e-01, -1.16694711e+00,\n",
       "         6.45497224e-01],\n",
       "       [ 1.51009735e+00,  1.66951604e+00,  1.52797444e+00,\n",
       "         6.62210464e-01, -1.78352181e+00, -1.42844786e+00,\n",
       "        -6.45497224e-01],\n",
       "       [ 1.51009735e+00,  9.76591096e-01,  2.25558131e+00,\n",
       "         1.61572316e+00, -8.93666831e-02, -1.42844786e+00,\n",
       "        -6.45497224e-01],\n",
       "       [ 3.19872837e-01,  5.29836854e-01,  7.27606875e-02,\n",
       "        -4.26617766e-02, -5.97613222e-01, -1.16694711e+00,\n",
       "        -6.45497224e-01],\n",
       "       [ 3.19872837e-01,  1.02571127e-03, -4.60817688e-01,\n",
       "         7.22757934e-02,  6.22178471e-01,  1.44806042e+00,\n",
       "        -6.45497224e-01],\n",
       "       [-8.70351674e-01, -5.91607466e-01, -5.57831938e-01,\n",
       "        -7.36978526e-01, -7.67028735e-01,  1.70956117e+00,\n",
       "        -6.45497224e-01],\n",
       "       [ 1.51009735e+00,  9.31003928e-01,  8.00367563e-01,\n",
       "         5.28507576e-01, -1.61410630e+00, -1.42844786e+00,\n",
       "        -6.45497224e-01],\n",
       "       [ 3.19872837e-01,  4.56897386e-01, -7.03353313e-01,\n",
       "         6.75111620e-01,  1.94361947e+00,  1.40556655e-01,\n",
       "        -6.45497224e-01],\n",
       "       [-8.70351674e-01, -5.46020299e-01, -8.48874688e-01,\n",
       "        -5.08276218e-01, -5.63730119e-01,  1.40556655e-01,\n",
       "        -6.45497224e-01],\n",
       "       [ 3.19872837e-01,  2.92783583e-01, -1.69774938e-01,\n",
       "        -2.45561773e-01, -8.93666831e-02, -6.43945603e-01,\n",
       "        -6.45497224e-01],\n",
       "       [ 3.19872837e-01, -1.72091557e-02, -2.91042750e-01,\n",
       "        -1.93957149e-01,  8.00488299e-02, -1.42844786e+00,\n",
       "        -6.45497224e-01],\n",
       "       [ 1.51009735e+00,  1.36864074e+00,  1.77051006e+00,\n",
       "         1.75998154e+00, -9.36444248e-01, -6.43945603e-01,\n",
       "        -6.45497224e-01],\n",
       "       [ 1.51009735e+00,  1.37775817e+00,  9.94396063e-01,\n",
       "         1.94528905e+00, -5.97613222e-01, -1.20944098e-01,\n",
       "        -6.45497224e-01],\n",
       "       [ 1.51009735e+00,  2.08891798e+00,  2.20707419e+00,\n",
       "         1.57467403e+00, -1.78352181e+00, -1.42844786e+00,\n",
       "        -6.45497224e-01],\n",
       "       [ 3.19872837e-01,  4.56897386e-01, -4.85071250e-02,\n",
       "         5.40235900e-01,  2.49464343e-01, -1.20944098e-01,\n",
       "        -6.45497224e-01],\n",
       "       [-8.70351674e-01, -5.46020299e-01, -5.82085500e-01,\n",
       "        -4.21486625e-01,  5.88295369e-01, -1.20944098e-01,\n",
       "        -6.45497224e-01],\n",
       "       [ 1.51009735e+00,  2.18920975e+00,  2.61938475e+00,\n",
       "         1.54066189e+00, -2.29176835e+00, -1.42844786e+00,\n",
       "        -6.45497224e-01],\n",
       "       [-8.70351674e-01, -9.38069939e-01, -9.70142500e-01,\n",
       "        -1.09469239e+00,  8.59360189e-01,  1.44806042e+00,\n",
       "         1.93649167e+00],\n",
       "       [ 1.51009735e+00,  1.36864074e+00,  1.16417100e+00,\n",
       "         1.76350004e+00, -5.97613222e-01, -9.05446356e-01,\n",
       "        -6.45497224e-01],\n",
       "       [-8.70351674e-01, -8.19543304e-01, -4.85071250e-01,\n",
       "        -3.82783157e-01,  7.57710882e-01, -1.42844786e+00,\n",
       "         6.45497224e-01],\n",
       "       [ 3.19872837e-01,  2.28961549e-01, -1.69774938e-01,\n",
       "         7.65419711e-01,  8.25477087e-01,  1.40556655e-01,\n",
       "        -6.45497224e-01],\n",
       "       [-8.70351674e-01, -7.92191003e-01, -2.91042750e-01,\n",
       "        -7.34632862e-01, -8.93666831e-02, -1.42844786e+00,\n",
       "         1.93649167e+00],\n",
       "       [-8.70351674e-01, -8.65130471e-01, -7.76114000e-01,\n",
       "        -9.01175055e-01, -2.58782196e-01,  6.63558160e-01,\n",
       "        -6.45497224e-01],\n",
       "       [-8.70351674e-01, -9.38069939e-01, -7.76114000e-01,\n",
       "        -8.60125923e-01,  9.94892600e-01,  4.02057407e-01,\n",
       "         1.93649167e+00],\n",
       "       [-8.70351674e-01, -1.06571401e+00, -1.11566388e+00,\n",
       "        -1.16740800e+00,  1.26595742e+00, -3.82444851e-01,\n",
       "         1.93649167e+00],\n",
       "       [-8.70351674e-01, -9.28952506e-01, -1.13991744e+00,\n",
       "        -9.78581990e-01,  2.31633360e+00,  1.40556655e-01,\n",
       "        -6.45497224e-01],\n",
       "       [ 1.51009735e+00,  1.36864074e+00,  1.77051006e+00,\n",
       "         7.80666531e-01, -1.44469079e+00, -6.43945603e-01,\n",
       "        -6.45497224e-01]])"
      ]
     },
     "execution_count": 10,
     "metadata": {},
     "output_type": "execute_result"
    }
   ],
   "source": [
    "x_test"
   ]
  },
  {
   "cell_type": "code",
   "execution_count": 9,
   "id": "8a82fa09",
   "metadata": {},
   "outputs": [
    {
     "data": {
      "text/html": [
       "<style>#sk-container-id-1 {color: black;background-color: white;}#sk-container-id-1 pre{padding: 0;}#sk-container-id-1 div.sk-toggleable {background-color: white;}#sk-container-id-1 label.sk-toggleable__label {cursor: pointer;display: block;width: 100%;margin-bottom: 0;padding: 0.3em;box-sizing: border-box;text-align: center;}#sk-container-id-1 label.sk-toggleable__label-arrow:before {content: \"▸\";float: left;margin-right: 0.25em;color: #696969;}#sk-container-id-1 label.sk-toggleable__label-arrow:hover:before {color: black;}#sk-container-id-1 div.sk-estimator:hover label.sk-toggleable__label-arrow:before {color: black;}#sk-container-id-1 div.sk-toggleable__content {max-height: 0;max-width: 0;overflow: hidden;text-align: left;background-color: #f0f8ff;}#sk-container-id-1 div.sk-toggleable__content pre {margin: 0.2em;color: black;border-radius: 0.25em;background-color: #f0f8ff;}#sk-container-id-1 input.sk-toggleable__control:checked~div.sk-toggleable__content {max-height: 200px;max-width: 100%;overflow: auto;}#sk-container-id-1 input.sk-toggleable__control:checked~label.sk-toggleable__label-arrow:before {content: \"▾\";}#sk-container-id-1 div.sk-estimator input.sk-toggleable__control:checked~label.sk-toggleable__label {background-color: #d4ebff;}#sk-container-id-1 div.sk-label input.sk-toggleable__control:checked~label.sk-toggleable__label {background-color: #d4ebff;}#sk-container-id-1 input.sk-hidden--visually {border: 0;clip: rect(1px 1px 1px 1px);clip: rect(1px, 1px, 1px, 1px);height: 1px;margin: -1px;overflow: hidden;padding: 0;position: absolute;width: 1px;}#sk-container-id-1 div.sk-estimator {font-family: monospace;background-color: #f0f8ff;border: 1px dotted black;border-radius: 0.25em;box-sizing: border-box;margin-bottom: 0.5em;}#sk-container-id-1 div.sk-estimator:hover {background-color: #d4ebff;}#sk-container-id-1 div.sk-parallel-item::after {content: \"\";width: 100%;border-bottom: 1px solid gray;flex-grow: 1;}#sk-container-id-1 div.sk-label:hover label.sk-toggleable__label {background-color: #d4ebff;}#sk-container-id-1 div.sk-serial::before {content: \"\";position: absolute;border-left: 1px solid gray;box-sizing: border-box;top: 0;bottom: 0;left: 50%;z-index: 0;}#sk-container-id-1 div.sk-serial {display: flex;flex-direction: column;align-items: center;background-color: white;padding-right: 0.2em;padding-left: 0.2em;position: relative;}#sk-container-id-1 div.sk-item {position: relative;z-index: 1;}#sk-container-id-1 div.sk-parallel {display: flex;align-items: stretch;justify-content: center;background-color: white;position: relative;}#sk-container-id-1 div.sk-item::before, #sk-container-id-1 div.sk-parallel-item::before {content: \"\";position: absolute;border-left: 1px solid gray;box-sizing: border-box;top: 0;bottom: 0;left: 50%;z-index: -1;}#sk-container-id-1 div.sk-parallel-item {display: flex;flex-direction: column;z-index: 1;position: relative;background-color: white;}#sk-container-id-1 div.sk-parallel-item:first-child::after {align-self: flex-end;width: 50%;}#sk-container-id-1 div.sk-parallel-item:last-child::after {align-self: flex-start;width: 50%;}#sk-container-id-1 div.sk-parallel-item:only-child::after {width: 0;}#sk-container-id-1 div.sk-dashed-wrapped {border: 1px dashed gray;margin: 0 0.4em 0.5em 0.4em;box-sizing: border-box;padding-bottom: 0.4em;background-color: white;}#sk-container-id-1 div.sk-label label {font-family: monospace;font-weight: bold;display: inline-block;line-height: 1.2em;}#sk-container-id-1 div.sk-label-container {text-align: center;}#sk-container-id-1 div.sk-container {/* jupyter's `normalize.less` sets `[hidden] { display: none; }` but bootstrap.min.css set `[hidden] { display: none !important; }` so we also need the `!important` here to be able to override the default hidden behavior on the sphinx rendered scikit-learn.org. See: https://github.com/scikit-learn/scikit-learn/issues/21755 */display: inline-block !important;position: relative;}#sk-container-id-1 div.sk-text-repr-fallback {display: none;}</style><div id=\"sk-container-id-1\" class=\"sk-top-container\"><div class=\"sk-text-repr-fallback\"><pre>RandomForestRegressor(n_estimators=30, random_state=0)</pre><b>In a Jupyter environment, please rerun this cell to show the HTML representation or trust the notebook. <br />On GitHub, the HTML representation is unable to render, please try loading this page with nbviewer.org.</b></div><div class=\"sk-container\" hidden><div class=\"sk-item\"><div class=\"sk-estimator sk-toggleable\"><input class=\"sk-toggleable__control sk-hidden--visually\" id=\"sk-estimator-id-1\" type=\"checkbox\" checked><label for=\"sk-estimator-id-1\" class=\"sk-toggleable__label sk-toggleable__label-arrow\">RandomForestRegressor</label><div class=\"sk-toggleable__content\"><pre>RandomForestRegressor(n_estimators=30, random_state=0)</pre></div></div></div></div></div>"
      ],
      "text/plain": [
       "RandomForestRegressor(n_estimators=30, random_state=0)"
      ]
     },
     "execution_count": 9,
     "metadata": {},
     "output_type": "execute_result"
    }
   ],
   "source": [
    "from sklearn.ensemble import RandomForestRegressor\n",
    "d = RandomForestRegressor(n_estimators=30,random_state=0)\n",
    "d.fit(x_train,y_train)"
   ]
  },
  {
   "cell_type": "code",
   "execution_count": null,
   "id": "0457887c",
   "metadata": {},
   "outputs": [],
   "source": []
  },
  {
   "cell_type": "code",
   "execution_count": 10,
   "id": "ec0dd93e",
   "metadata": {},
   "outputs": [
    {
     "data": {
      "text/plain": [
       "array([14.38333333, 24.25666667, 14.21666667, 20.56666667, 18.47333333,\n",
       "       30.21666667, 34.63333333, 21.15      , 16.30333333, 25.76      ,\n",
       "       36.60333333, 36.27      , 19.53666667, 27.32333333, 16.54333333,\n",
       "       32.99333333, 28.32333333, 27.49666667, 17.03      , 35.82      ,\n",
       "       16.47333333, 23.54      , 23.16666667, 20.7       , 33.69666667,\n",
       "       26.45      , 33.79666667, 30.37333333, 31.93666667, 16.57333333,\n",
       "       20.26666667, 32.99      , 19.79666667, 34.08333333, 20.85666667,\n",
       "       25.02      , 19.65333333, 17.14      , 34.78333333, 12.76666667,\n",
       "       13.73333333, 15.2       , 28.32      , 32.76666667, 28.74333333,\n",
       "       22.68666667, 20.54333333, 16.50666667, 23.38      , 29.88333333,\n",
       "       34.31666667, 26.5       , 17.63      , 27.78333333, 15.96666667,\n",
       "       12.96666667, 18.86666667, 26.91666667, 31.95666667, 15.68      ,\n",
       "       20.81      , 25.97      , 19.84666667, 21.6       , 13.46666667,\n",
       "       15.33333333, 14.2       , 18.90333333, 24.72666667, 14.21666667,\n",
       "       34.87666667, 13.25      , 22.96666667, 18.77666667, 23.83333333,\n",
       "       32.16666667, 28.17666667, 31.23666667, 31.94      , 14.35      ])"
      ]
     },
     "execution_count": 10,
     "metadata": {},
     "output_type": "execute_result"
    }
   ],
   "source": [
    "y_pred = d.predict(x_test)\n",
    "y_pred"
   ]
  },
  {
   "cell_type": "code",
   "execution_count": 11,
   "id": "7da6e733",
   "metadata": {},
   "outputs": [
    {
     "data": {
      "text/plain": [
       "0.8914224071232417"
      ]
     },
     "execution_count": 11,
     "metadata": {},
     "output_type": "execute_result"
    }
   ],
   "source": [
    "from sklearn.metrics import r2_score\n",
    "accurray = r2_score(y_test,y_pred)\n",
    "accurray"
   ]
  },
  {
   "cell_type": "code",
   "execution_count": 12,
   "id": "73813932",
   "metadata": {},
   "outputs": [],
   "source": [
    "import pickle\n",
    "pickle.dump(d,open('regression.pkl','wb'))"
   ]
  }
 ],
 "metadata": {
  "kernelspec": {
   "display_name": "Python 3.10.8 64-bit",
   "language": "python",
   "name": "python3"
  },
  "language_info": {
   "codemirror_mode": {
    "name": "ipython",
    "version": 3
   },
   "file_extension": ".py",
   "mimetype": "text/x-python",
   "name": "python",
   "nbconvert_exporter": "python",
   "pygments_lexer": "ipython3",
   "version": "3.10.8"
  },
  "vscode": {
   "interpreter": {
    "hash": "3196968d684371006099b3d55edeef8ed90365227a30deaef86e5d4aa8519be0"
   }
  }
 },
 "nbformat": 4,
 "nbformat_minor": 5
}
